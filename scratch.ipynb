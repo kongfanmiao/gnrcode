{
 "cells": [
  {
   "cell_type": "code",
   "execution_count": 1,
   "metadata": {},
   "outputs": [],
   "source": [
    "import sys\n",
    "path = \"/mnt/d/kfm/Computation/\"\n",
    "if not path in sys.path:\n",
    "    sys.path.insert(0, path)\n",
    "from gnrcode import *\n",
    "from sisl import *\n",
    "import numpy as np\n",
    "import matplotlib.pyplot as plt"
   ]
  },
  {
   "cell_type": "code",
   "execution_count": 2,
   "metadata": {},
   "outputs": [],
   "source": [
    "from itertools import combinations"
   ]
  },
  {
   "cell_type": "code",
   "execution_count": 3,
   "metadata": {},
   "outputs": [],
   "source": [
    "g = geom.agnr(7)"
   ]
  },
  {
   "cell_type": "code",
   "execution_count": 30,
   "metadata": {},
   "outputs": [],
   "source": [
    "def mark_sublattice(geo):\n",
    "    N = geo.na\n",
    "    xyz = geo.xyz\n",
    "    idx_gen = combinations(np.arange(N),2)\n",
    "    adj_max = np.zeros((N,N))\n",
    "    for i1, i2 in idx_gen:\n",
    "        if geo.rij(i1,i2) < 1.6:\n",
    "            adj_max[i1,i2] = 1\n",
    "            adj_max[i2,i1] = 1\n",
    "    adj_max\n",
    "    prev = {0}\n",
    "    changed = {0}\n",
    "    sublatLabel = [1]*N\n",
    "    while len(changed) < N:\n",
    "        tmp = set()\n",
    "        for i in prev:\n",
    "            nex = set(np.where(adj_max[i]==1)[0])\n",
    "            nex = nex - changed\n",
    "            for j in nex:\n",
    "                sublatLabel[j] = -1*sublatLabel[i]\n",
    "            tmp.update(nex)\n",
    "        changed.update(tmp)\n",
    "        prev = tmp\n",
    "    sublatLabel = list(map(lambda x: 'A' if x==1 else 'B', sublatLabel))\n",
    "    plt.scatter(xyz[:,0], xyz[:,1])\n",
    "    for i in range(N):\n",
    "        plt.text(xyz[i,0], xyz[i,1], sublatLabel[i], fontsize=20)\n",
    "    plt.axis('equal')"
   ]
  },
  {
   "cell_type": "code",
   "execution_count": 31,
   "metadata": {},
   "outputs": [
    {
     "data": {
      "image/png": "[encoded data removed]",
      "text/plain": [
       "<Figure size 432x288 with 1 Axes>"
      ]
     },
     "metadata": {
      "needs_background": "light"
     },
     "output_type": "display_data"
    }
   ],
   "source": [
    "mark_sublattice(g)"
   ]
  },
  {
   "cell_type": "code",
   "execution_count": null,
   "metadata": {},
   "outputs": [],
   "source": []
  }
 ],
 "metadata": {
  "interpreter": {
   "hash": "6e681a5c13035bd2723cd4dbeadef47b2bf852fc5f1c034a66e66c3d0c75682a"
  },
  "kernelspec": {
   "display_name": "Python 3.8.12 ('base')",
   "language": "python",
   "name": "python3"
  },
  "language_info": {
   "codemirror_mode": {
    "name": "ipython",
    "version": 3
   },
   "file_extension": ".py",
   "mimetype": "text/x-python",
   "name": "python",
   "nbconvert_exporter": "python",
   "pygments_lexer": "ipython3",
   "version": "3.8.12"
  },
  "orig_nbformat": 4
 },
 "nbformat": 4,
 "nbformat_minor": 2
}
